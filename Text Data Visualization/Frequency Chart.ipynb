{
 "cells": [
  {
   "cell_type": "markdown",
   "metadata": {},
   "source": [
    "\n",
    "<center><u><H1>Frequency Chart</H1></u></center>"
   ]
  },
  {
   "cell_type": "code",
   "execution_count": 2,
   "metadata": {},
   "outputs": [],
   "source": [
    "import string\n",
    "import pandas as pd\n",
    "import numpy as np\n",
    "import matplotlib.pyplot as plt\n",
    "from sklearn.feature_extraction.text import TfidfVectorizer\n",
    "from nltk.corpus import stopwords\n",
    "from nltk.stem import WordNetLemmatizer\n",
    "from nltk.tokenize import word_tokenize"
   ]
  },
  {
   "cell_type": "code",
   "execution_count": 3,
   "metadata": {},
   "outputs": [],
   "source": [
    "def preprocessing(text):\n",
    "    words = word_tokenize(text)\n",
    "    tokens = [w for w in words if w.lower() not in string.punctuation]\n",
    "    stopw = stopwords.words('english')\n",
    "    tokens = [token for token in tokens if token not in stopw]\n",
    "    # remove words less than three letters\n",
    "    tokens = [word for word in tokens if len(word)>=3]\n",
    "    #lower capitalization\n",
    "    tokens = [word.lower() for word in tokens]\n",
    "    # lemmatize\n",
    "    lemma = WordNetLemmatizer()\n",
    "    tokens = [lemma.lemmatize(word) for word in tokens]\n",
    "    preprocessed_text = ' '.join(tokens)\n",
    "    return preprocessed_text "
   ]
  },
  {
   "cell_type": "code",
   "execution_count": 6,
   "metadata": {},
   "outputs": [
    {
     "name": "stderr",
     "output_type": "stream",
     "text": [
      "[nltk_data] Downloading package wordnet to C:\\Users\\Sai Charan\n",
      "[nltk_data]     Reddy\\AppData\\Roaming\\nltk_data...\n",
      "[nltk_data]   Unzipping corpora\\wordnet.zip.\n"
     ]
    },
    {
     "data": {
      "text/plain": [
       "True"
      ]
     },
     "execution_count": 6,
     "metadata": {},
     "output_type": "execute_result"
    }
   ],
   "source": [
    "import nltk\n",
    "nltk.download('wordnet')"
   ]
  },
  {
   "cell_type": "code",
   "execution_count": 7,
   "metadata": {},
   "outputs": [
    {
     "data": {
      "text/plain": [
       "[\"'ve arranged civilization crucial element profoundly depend science technology\",\n",
       " 'also arranged thing almost one understands science technology this prescription disaster might get away sooner later combustible mixture ignorance power going blow face']"
      ]
     },
     "execution_count": 7,
     "metadata": {},
     "output_type": "execute_result"
    }
   ],
   "source": [
    "text1 = open('../Data/carl_sagan_quote4.txt').read()\n",
    "text2 = open('../Data/carl_sagan_quote2.txt').read()\n",
    "list = [text1, text2]\n",
    "word_list = []\n",
    "for line in list:\n",
    "    word_list.append(preprocessing(line))\n",
    "word_list"
   ]
  },
  {
   "cell_type": "code",
   "execution_count": 8,
   "metadata": {},
   "outputs": [],
   "source": [
    "vectorizer = TfidfVectorizer()\n",
    "doc_vector = vectorizer.fit_transform(word_list)"
   ]
  },
  {
   "cell_type": "code",
   "execution_count": 9,
   "metadata": {},
   "outputs": [
    {
     "data": {
      "text/html": [
       "<div>\n",
       "<style scoped>\n",
       "    .dataframe tbody tr th:only-of-type {\n",
       "        vertical-align: middle;\n",
       "    }\n",
       "\n",
       "    .dataframe tbody tr th {\n",
       "        vertical-align: top;\n",
       "    }\n",
       "\n",
       "    .dataframe thead th {\n",
       "        text-align: right;\n",
       "    }\n",
       "</style>\n",
       "<table border=\"1\" class=\"dataframe\">\n",
       "  <thead>\n",
       "    <tr style=\"text-align: right;\">\n",
       "      <th></th>\n",
       "      <th>text1</th>\n",
       "      <th>text2</th>\n",
       "    </tr>\n",
       "  </thead>\n",
       "  <tbody>\n",
       "    <tr>\n",
       "      <th>almost</th>\n",
       "      <td>0.000000</td>\n",
       "      <td>0.215572</td>\n",
       "    </tr>\n",
       "    <tr>\n",
       "      <th>also</th>\n",
       "      <td>0.000000</td>\n",
       "      <td>0.215572</td>\n",
       "    </tr>\n",
       "    <tr>\n",
       "      <th>arranged</th>\n",
       "      <td>0.259482</td>\n",
       "      <td>0.153381</td>\n",
       "    </tr>\n",
       "    <tr>\n",
       "      <th>away</th>\n",
       "      <td>0.000000</td>\n",
       "      <td>0.215572</td>\n",
       "    </tr>\n",
       "    <tr>\n",
       "      <th>blow</th>\n",
       "      <td>0.000000</td>\n",
       "      <td>0.215572</td>\n",
       "    </tr>\n",
       "    <tr>\n",
       "      <th>civilization</th>\n",
       "      <td>0.364693</td>\n",
       "      <td>0.000000</td>\n",
       "    </tr>\n",
       "    <tr>\n",
       "      <th>combustible</th>\n",
       "      <td>0.000000</td>\n",
       "      <td>0.215572</td>\n",
       "    </tr>\n",
       "    <tr>\n",
       "      <th>crucial</th>\n",
       "      <td>0.364693</td>\n",
       "      <td>0.000000</td>\n",
       "    </tr>\n",
       "    <tr>\n",
       "      <th>depend</th>\n",
       "      <td>0.364693</td>\n",
       "      <td>0.000000</td>\n",
       "    </tr>\n",
       "    <tr>\n",
       "      <th>disaster</th>\n",
       "      <td>0.000000</td>\n",
       "      <td>0.215572</td>\n",
       "    </tr>\n",
       "    <tr>\n",
       "      <th>element</th>\n",
       "      <td>0.364693</td>\n",
       "      <td>0.000000</td>\n",
       "    </tr>\n",
       "    <tr>\n",
       "      <th>face</th>\n",
       "      <td>0.000000</td>\n",
       "      <td>0.215572</td>\n",
       "    </tr>\n",
       "    <tr>\n",
       "      <th>get</th>\n",
       "      <td>0.000000</td>\n",
       "      <td>0.215572</td>\n",
       "    </tr>\n",
       "    <tr>\n",
       "      <th>going</th>\n",
       "      <td>0.000000</td>\n",
       "      <td>0.215572</td>\n",
       "    </tr>\n",
       "    <tr>\n",
       "      <th>ignorance</th>\n",
       "      <td>0.000000</td>\n",
       "      <td>0.215572</td>\n",
       "    </tr>\n",
       "    <tr>\n",
       "      <th>later</th>\n",
       "      <td>0.000000</td>\n",
       "      <td>0.215572</td>\n",
       "    </tr>\n",
       "    <tr>\n",
       "      <th>might</th>\n",
       "      <td>0.000000</td>\n",
       "      <td>0.215572</td>\n",
       "    </tr>\n",
       "    <tr>\n",
       "      <th>mixture</th>\n",
       "      <td>0.000000</td>\n",
       "      <td>0.215572</td>\n",
       "    </tr>\n",
       "    <tr>\n",
       "      <th>one</th>\n",
       "      <td>0.000000</td>\n",
       "      <td>0.215572</td>\n",
       "    </tr>\n",
       "    <tr>\n",
       "      <th>power</th>\n",
       "      <td>0.000000</td>\n",
       "      <td>0.215572</td>\n",
       "    </tr>\n",
       "    <tr>\n",
       "      <th>prescription</th>\n",
       "      <td>0.000000</td>\n",
       "      <td>0.215572</td>\n",
       "    </tr>\n",
       "    <tr>\n",
       "      <th>profoundly</th>\n",
       "      <td>0.364693</td>\n",
       "      <td>0.000000</td>\n",
       "    </tr>\n",
       "    <tr>\n",
       "      <th>science</th>\n",
       "      <td>0.259482</td>\n",
       "      <td>0.153381</td>\n",
       "    </tr>\n",
       "    <tr>\n",
       "      <th>sooner</th>\n",
       "      <td>0.000000</td>\n",
       "      <td>0.215572</td>\n",
       "    </tr>\n",
       "    <tr>\n",
       "      <th>technology</th>\n",
       "      <td>0.259482</td>\n",
       "      <td>0.153381</td>\n",
       "    </tr>\n",
       "    <tr>\n",
       "      <th>thing</th>\n",
       "      <td>0.000000</td>\n",
       "      <td>0.215572</td>\n",
       "    </tr>\n",
       "    <tr>\n",
       "      <th>this</th>\n",
       "      <td>0.000000</td>\n",
       "      <td>0.215572</td>\n",
       "    </tr>\n",
       "    <tr>\n",
       "      <th>understands</th>\n",
       "      <td>0.000000</td>\n",
       "      <td>0.215572</td>\n",
       "    </tr>\n",
       "    <tr>\n",
       "      <th>ve</th>\n",
       "      <td>0.364693</td>\n",
       "      <td>0.000000</td>\n",
       "    </tr>\n",
       "  </tbody>\n",
       "</table>\n",
       "</div>"
      ],
      "text/plain": [
       "                 text1     text2\n",
       "almost        0.000000  0.215572\n",
       "also          0.000000  0.215572\n",
       "arranged      0.259482  0.153381\n",
       "away          0.000000  0.215572\n",
       "blow          0.000000  0.215572\n",
       "civilization  0.364693  0.000000\n",
       "combustible   0.000000  0.215572\n",
       "crucial       0.364693  0.000000\n",
       "depend        0.364693  0.000000\n",
       "disaster      0.000000  0.215572\n",
       "element       0.364693  0.000000\n",
       "face          0.000000  0.215572\n",
       "get           0.000000  0.215572\n",
       "going         0.000000  0.215572\n",
       "ignorance     0.000000  0.215572\n",
       "later         0.000000  0.215572\n",
       "might         0.000000  0.215572\n",
       "mixture       0.000000  0.215572\n",
       "one           0.000000  0.215572\n",
       "power         0.000000  0.215572\n",
       "prescription  0.000000  0.215572\n",
       "profoundly    0.364693  0.000000\n",
       "science       0.259482  0.153381\n",
       "sooner        0.000000  0.215572\n",
       "technology    0.259482  0.153381\n",
       "thing         0.000000  0.215572\n",
       "this          0.000000  0.215572\n",
       "understands   0.000000  0.215572\n",
       "ve            0.364693  0.000000"
      ]
     },
     "execution_count": 9,
     "metadata": {},
     "output_type": "execute_result"
    }
   ],
   "source": [
    "df = pd.DataFrame(doc_vector.toarray().transpose(), index=vectorizer.get_feature_names())\n",
    "df.columns = ['text1', 'text2']\n",
    "df"
   ]
  },
  {
   "cell_type": "code",
   "execution_count": 10,
   "metadata": {},
   "outputs": [],
   "source": [
    "freq = df.iloc[:,0].sort_values(ascending=False, inplace=False)"
   ]
  },
  {
   "cell_type": "code",
   "execution_count": 11,
   "metadata": {},
   "outputs": [
    {
     "data": {
      "image/png": "[encoded data removed]",
      "text/plain": [
       "<Figure size 432x288 with 1 Axes>"
      ]
     },
     "metadata": {
      "needs_background": "light"
     },
     "output_type": "display_data"
    }
   ],
   "source": [
    "words = df.index\n",
    "xvalues = np.arange(len(df.index))\n",
    "width = 1.0\n",
    "ax = plt.axes(frameon=True)\n",
    "ax.set_xticks(xvalues)\n",
    "ax.set_xticklabels(words, rotation='vertical', fontsize=9)\n",
    "ax.set_title('Word Frequency Chart')\n",
    "ax.set_xlabel('Words')\n",
    "ax.set_ylabel('Frequency')\n",
    "plt.bar(xvalues,freq, width,color='g' )\n",
    "plt.show()"
   ]
  },
  {
   "cell_type": "markdown",
   "metadata": {
    "collapsed": true
   },
   "source": [
    "## Reference:\n",
    "\n",
    "http://www.nltk.org/book/ch02.html"
   ]
  }
 ],
 "metadata": {
  "kernelspec": {
   "display_name": "Python 3",
   "language": "python",
   "name": "python3"
  },
  "language_info": {
   "codemirror_mode": {
    "name": "ipython",
    "version": 3
   },
   "file_extension": ".py",
   "mimetype": "text/x-python",
   "name": "python",
   "nbconvert_exporter": "python",
   "pygments_lexer": "ipython3",
   "version": "3.7.1"
  }
 },
 "nbformat": 4,
 "nbformat_minor": 2
}

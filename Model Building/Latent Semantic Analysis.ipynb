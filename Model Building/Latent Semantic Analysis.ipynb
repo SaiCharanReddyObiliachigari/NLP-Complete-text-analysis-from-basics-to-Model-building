{
 "cells": [
  {
   "cell_type": "markdown",
   "metadata": {},
   "source": [
    "\n",
    "<center><u><H1>Latent Semantic Analysis (LSA)</H1></u></center>"
   ]
  },
  {
   "cell_type": "code",
   "execution_count": 1,
   "metadata": {},
   "outputs": [],
   "source": [
    "from sklearn.datasets import fetch_20newsgroups\n",
    "from sklearn.feature_extraction.text import TfidfVectorizer\n",
    "from sklearn.decomposition import TruncatedSVD\n",
    "from sklearn.preprocessing import Normalizer\n",
    "from sklearn.pipeline import make_pipeline\n",
    "from sklearn.cluster import KMeans, MiniBatchKMeans"
   ]
  },
  {
   "cell_type": "code",
   "execution_count": 2,
   "metadata": {},
   "outputs": [],
   "source": [
    "categories = ['rec.autos', 'sci.electronics', 'comp.graphics']"
   ]
  },
  {
   "cell_type": "code",
   "execution_count": 3,
   "metadata": {},
   "outputs": [],
   "source": [
    "data = fetch_20newsgroups(subset='all', categories=categories,\n",
    "                          shuffle=True, random_state=2017)"
   ]
  },
  {
   "cell_type": "code",
   "execution_count": 4,
   "metadata": {},
   "outputs": [],
   "source": [
    "vectorizer = TfidfVectorizer(stop_words='english')\n",
    "X = vectorizer.fit_transform(data.data)"
   ]
  },
  {
   "cell_type": "code",
   "execution_count": 5,
   "metadata": {},
   "outputs": [],
   "source": [
    "km = KMeans(n_clusters=3, init='k-means++', max_iter=100, n_init=1)\n",
    "svd = TruncatedSVD(2000) #Desired dimensionality of output data\n",
    "lsa = make_pipeline(svd, Normalizer(copy=False))"
   ]
  },
  {
   "cell_type": "code",
   "execution_count": 6,
   "metadata": {},
   "outputs": [
    {
     "data": {
      "text/plain": [
       "KMeans(algorithm='auto', copy_x=True, init='k-means++', max_iter=100,\n",
       "    n_clusters=3, n_init=1, n_jobs=None, precompute_distances='auto',\n",
       "    random_state=None, tol=0.0001, verbose=0)"
      ]
     },
     "execution_count": 6,
     "metadata": {},
     "output_type": "execute_result"
    }
   ],
   "source": [
    "X = lsa.fit_transform(X)\n",
    "km.fit(X)"
   ]
  },
  {
   "cell_type": "code",
   "execution_count": 7,
   "metadata": {},
   "outputs": [
    {
     "data": {
      "text/plain": [
       "0.9330345458271098"
      ]
     },
     "execution_count": 7,
     "metadata": {},
     "output_type": "execute_result"
    }
   ],
   "source": [
    "explained_variance = svd.explained_variance_ratio_.sum()\n",
    "explained_variance"
   ]
  },
  {
   "cell_type": "code",
   "execution_count": 8,
   "metadata": {},
   "outputs": [],
   "source": [
    "terms = vectorizer.get_feature_names()\n",
    "original_centroids = svd.inverse_transform(km.cluster_centers_)\n",
    "order_centroids = original_centroids.argsort()[:,::-1]"
   ]
  },
  {
   "cell_type": "code",
   "execution_count": 9,
   "metadata": {},
   "outputs": [
    {
     "name": "stdout",
     "output_type": "stream",
     "text": [
      "Cluster 0:\n",
      " edu\n",
      " com\n",
      " lines\n",
      " subject\n",
      " organization\n",
      " university\n",
      " host\n",
      " posting\n",
      " nntp\n",
      " ca\n",
      "Cluster 1:\n",
      " graphics\n",
      " edu\n",
      " uk\n",
      " image\n",
      " ac\n",
      " program\n",
      " file\n",
      " files\n",
      " bit\n",
      " 3d\n",
      "Cluster 2:\n",
      " car\n",
      " com\n",
      " edu\n",
      " cars\n",
      " writes\n",
      " article\n",
      " engine\n",
      " just\n",
      " oil\n",
      " subject\n"
     ]
    }
   ],
   "source": [
    "for i in range(3):\n",
    "    print(\"Cluster %d:\" % i)\n",
    "    for ix in order_centroids[i, :10]:\n",
    "        print(' %s' % terms[ix])"
   ]
  },
  {
   "cell_type": "code",
   "execution_count": 10,
   "metadata": {},
   "outputs": [],
   "source": [
    "kmini = MiniBatchKMeans(n_clusters=3, init='k-means++', n_init=1,\n",
    "                        init_size=1000,\n",
    "                       batch_size=1000\n",
    "                       )"
   ]
  },
  {
   "cell_type": "code",
   "execution_count": 11,
   "metadata": {},
   "outputs": [],
   "source": [
    "kmini_model = kmini.fit(X)"
   ]
  },
  {
   "cell_type": "code",
   "execution_count": 12,
   "metadata": {},
   "outputs": [],
   "source": [
    "original_centroids = svd.inverse_transform(kmini_model.cluster_centers_)\n",
    "order_centroids = original_centroids.argsort()[:,::-1]"
   ]
  },
  {
   "cell_type": "code",
   "execution_count": 14,
   "metadata": {
    "scrolled": true
   },
   "outputs": [
    {
     "name": "stdout",
     "output_type": "stream",
     "text": [
      "Cluster 0:\n",
      " edu\n",
      " university\n",
      " lines\n",
      " subject\n",
      " host\n",
      " organization\n",
      " posting\n",
      " nntp\n",
      " graphics\n",
      " thanks\n",
      "Cluster 1:\n",
      " com\n",
      " car\n",
      " edu\n",
      " writes\n",
      " article\n",
      " just\n",
      " lines\n",
      " subject\n",
      " hp\n",
      " organization\n",
      "Cluster 2:\n",
      " uk\n",
      " ac\n",
      " image\n",
      " edu\n",
      " copy\n",
      " bit\n",
      " program\n",
      " cs\n",
      " files\n",
      " university\n"
     ]
    }
   ],
   "source": [
    "for i in range(3):\n",
    "    print(\"Cluster %d:\" % i)\n",
    "    for ix in order_centroids[i, :10]:\n",
    "        print(' %s' % terms[ix])"
   ]
  },
  {
   "cell_type": "code",
   "execution_count": 15,
   "metadata": {},
   "outputs": [
    {
     "data": {
      "text/plain": [
       "<matplotlib.collections.PathCollection at 0x251953ef668>"
      ]
     },
     "execution_count": 15,
     "metadata": {},
     "output_type": "execute_result"
    },
    {
     "data": {
      "image/png": "[encoded data removed]",
      "text/plain": [
       "<Figure size 576x432 with 1 Axes>"
      ]
     },
     "metadata": {
      "needs_background": "light"
     },
     "output_type": "display_data"
    }
   ],
   "source": [
    "import matplotlib.pyplot as plt\n",
    "%matplotlib inline\n",
    "centroids = km.cluster_centers_\n",
    "f, ax = plt.subplots(figsize=(8, 6))\n",
    "ax.scatter(X[:,0], X[:,1],cmap=plt.cm.brg, c=km.labels_)\n",
    "ax.scatter(centroids[:,0], centroids[:,1], marker='x', s=300, linewidths=5, c='black')"
   ]
  },
  {
   "cell_type": "markdown",
   "metadata": {},
   "source": [
    "## References:\n",
    "\n",
    "http://scikit-learn.org/stable/modules/generated/sklearn.decomposition.TruncatedSVD.html#sklearn.decomposition.TruncatedSVD\n",
    "\n",
    "http://scikit-learn.org/stable/modules/generated/sklearn.preprocessing.Normalizer.html#sklearn.preprocessing.Normalizer\n"
   ]
  }
 ],
 "metadata": {
  "kernelspec": {
   "display_name": "Python 3",
   "language": "python",
   "name": "python3"
  },
  "language_info": {
   "codemirror_mode": {
    "name": "ipython",
    "version": 3
   },
   "file_extension": ".py",
   "mimetype": "text/x-python",
   "name": "python",
   "nbconvert_exporter": "python",
   "pygments_lexer": "ipython3",
   "version": "3.7.1"
  }
 },
 "nbformat": 4,
 "nbformat_minor": 2
}
